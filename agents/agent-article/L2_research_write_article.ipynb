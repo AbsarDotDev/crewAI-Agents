{
 "cells": [
  {
   "cell_type": "markdown",
   "metadata": {},
   "source": [
    "You can download the `requirements.txt` for this course from the workspace of this lab. `File --> Open...`"
   ]
  },
  {
   "cell_type": "markdown",
   "metadata": {},
   "source": [
    "# L2: Create Agents to Research and Write an Article\n",
    "\n",
    "In this lesson, you will be introduced to the foundational concepts of multi-agent systems and get an overview of the crewAI framework."
   ]
  },
  {
   "cell_type": "markdown",
   "metadata": {},
   "source": [
    "The libraries are already installed in the classroom. If you're running this notebook on your own machine, you can install the following:\n",
    "```Python\n",
    "!pip install crewai==0.28.8 crewai_tools==0.1.6 langchain_community==0.0.29\n",
    "```"
   ]
  },
  {
   "cell_type": "code",
   "execution_count": 1,
   "metadata": {
    "height": 64
   },
   "outputs": [],
   "source": [
    "# Warning control\n",
    "import warnings\n",
    "warnings.filterwarnings('ignore')"
   ]
  },
  {
   "cell_type": "markdown",
   "metadata": {},
   "source": [
    "- Import from the crewAI libray."
   ]
  },
  {
   "cell_type": "code",
   "execution_count": 2,
   "metadata": {
    "height": 30
   },
   "outputs": [],
   "source": [
    "from crewai import Agent, Task, Crew"
   ]
  },
  {
   "cell_type": "markdown",
   "metadata": {},
   "source": [
    "- As a LLM for your agents, you'll be using OpenAI's `gpt-3.5-turbo`.\n",
    "\n",
    "**Optional Note:** crewAI also allow other popular models to be used as a LLM for your Agents. You can see some of the examples at the [bottom of the notebook](#1)."
   ]
  },
  {
   "cell_type": "code",
   "execution_count": null,
   "metadata": {
    "height": 98
   },
   "outputs": [],
   "source": [
    "import sys\n",
    "import os\n",
    "\n",
    "# Add the parent directory to the system path\n",
    "sys.path.append(os.path.abspath(os.path.join(os.getcwd(), '..')))\n",
    "\n",
    "from utils import get_openai_api_key\n",
    "\n",
    "openai_api_key = get_openai_api_key()\n",
    "os.environ[\"OPENAI_MODEL_NAME\"] = 'gpt-3.5-turbo'"
   ]
  },
  {
   "cell_type": "markdown",
   "metadata": {},
   "source": [
    "## Creating Agents\n",
    "\n",
    "- Define your Agents, and provide them a `role`, `goal` and `backstory`.\n",
    "- It has been seen that LLMs perform better when they are role playing."
   ]
  },
  {
   "cell_type": "markdown",
   "metadata": {},
   "source": [
    "### Agent: Planner\n",
    "\n",
    "**Note**: The benefit of using _multiple strings_ :\n",
    "```Python\n",
    "varname = \"line 1 of text\"\n",
    "          \"line 2 of text\"\n",
    "```\n",
    "\n",
    "versus the _triple quote docstring_:\n",
    "```Python\n",
    "varname = \"\"\"line 1 of text\n",
    "             line 2 of text\n",
    "          \"\"\"\n",
    "```\n",
    "is that it can avoid adding those whitespaces and newline characters, making it better formatted to be passed to the LLM."
   ]
  },
  {
   "cell_type": "code",
   "execution_count": 6,
   "metadata": {
    "height": 234
   },
   "outputs": [],
   "source": [
    "planner = Agent(\n",
    "    role=\"Content Planner\",\n",
    "    goal=\"Plan engaging and factually accurate content on {topic}\",\n",
    "    backstory=\"You're working on planning a blog article \"\n",
    "              \"about the topic: {topic}.\"\n",
    "              \"You collect information that helps the \"\n",
    "              \"audience learn something \"\n",
    "              \"and make informed decisions. \"\n",
    "              \"Your work is the basis for \"\n",
    "              \"the Content Writer to write an article on this topic.\",\n",
    "    allow_delegation=False,\n",
    "\tverbose=True\n",
    ")"
   ]
  },
  {
   "cell_type": "markdown",
   "metadata": {},
   "source": [
    "### Agent: Writer"
   ]
  },
  {
   "cell_type": "code",
   "execution_count": 7,
   "metadata": {
    "height": 370
   },
   "outputs": [],
   "source": [
    "writer = Agent(\n",
    "    role=\"Content Writer\",\n",
    "    goal=\"Write insightful and factually accurate \"\n",
    "         \"opinion piece about the topic: {topic}\",\n",
    "    backstory=\"You're working on a writing \"\n",
    "              \"a new opinion piece about the topic: {topic}. \"\n",
    "              \"You base your writing on the work of \"\n",
    "              \"the Content Planner, who provides an outline \"\n",
    "              \"and relevant context about the topic. \"\n",
    "              \"You follow the main objectives and \"\n",
    "              \"direction of the outline, \"\n",
    "              \"as provide by the Content Planner. \"\n",
    "              \"You also provide objective and impartial insights \"\n",
    "              \"and back them up with information \"\n",
    "              \"provide by the Content Planner. \"\n",
    "              \"You acknowledge in your opinion piece \"\n",
    "              \"when your statements are opinions \"\n",
    "              \"as opposed to objective statements.\",\n",
    "    allow_delegation=False,\n",
    "    verbose=True\n",
    ")"
   ]
  },
  {
   "cell_type": "markdown",
   "metadata": {},
   "source": [
    "### Agent: Editor"
   ]
  },
  {
   "cell_type": "code",
   "execution_count": 8,
   "metadata": {
    "height": 268
   },
   "outputs": [],
   "source": [
    "editor = Agent(\n",
    "    role=\"Editor\",\n",
    "    goal=\"Edit a given blog post to align with \"\n",
    "         \"the writing style of the organization. \",\n",
    "    backstory=\"You are an editor who receives a blog post \"\n",
    "              \"from the Content Writer. \"\n",
    "              \"Your goal is to review the blog post \"\n",
    "              \"to ensure that it follows journalistic best practices,\"\n",
    "              \"provides balanced viewpoints \"\n",
    "              \"when providing opinions or assertions, \"\n",
    "              \"and also avoids major controversial topics \"\n",
    "              \"or opinions when possible.\",\n",
    "    allow_delegation=False,\n",
    "    verbose=True\n",
    ")"
   ]
  },
  {
   "cell_type": "markdown",
   "metadata": {},
   "source": [
    "## Creating Tasks\n",
    "\n",
    "- Define your Tasks, and provide them a `description`, `expected_output` and `agent`."
   ]
  },
  {
   "cell_type": "markdown",
   "metadata": {},
   "source": [
    "### Task: Plan"
   ]
  },
  {
   "cell_type": "code",
   "execution_count": 9,
   "metadata": {
    "height": 268
   },
   "outputs": [],
   "source": [
    "plan = Task(\n",
    "    description=(\n",
    "        \"1. Prioritize the latest trends, key players, \"\n",
    "            \"and noteworthy news on {topic}.\\n\"\n",
    "        \"2. Identify the target audience, considering \"\n",
    "            \"their interests and pain points.\\n\"\n",
    "        \"3. Develop a detailed content outline including \"\n",
    "            \"an introduction, key points, and a call to action.\\n\"\n",
    "        \"4. Include SEO keywords and relevant data or sources.\"\n",
    "    ),\n",
    "    expected_output=\"A comprehensive content plan document \"\n",
    "        \"with an outline, audience analysis, \"\n",
    "        \"SEO keywords, and resources.\",\n",
    "    agent=planner,\n",
    ")"
   ]
  },
  {
   "cell_type": "markdown",
   "metadata": {},
   "source": [
    "### Task: Write"
   ]
  },
  {
   "cell_type": "code",
   "execution_count": 10,
   "metadata": {
    "height": 319
   },
   "outputs": [],
   "source": [
    "write = Task(\n",
    "    description=(\n",
    "        \"1. Use the content plan to craft a compelling \"\n",
    "            \"blog post on {topic}.\\n\"\n",
    "        \"2. Incorporate SEO keywords naturally.\\n\"\n",
    "\t\t\"3. Sections/Subtitles are properly named \"\n",
    "            \"in an engaging manner.\\n\"\n",
    "        \"4. Ensure the post is structured with an \"\n",
    "            \"engaging introduction, insightful body, \"\n",
    "            \"and a summarizing conclusion.\\n\"\n",
    "        \"5. Proofread for grammatical errors and \"\n",
    "            \"alignment with the brand's voice.\\n\"\n",
    "    ),\n",
    "    expected_output=\"A well-written blog post \"\n",
    "        \"in markdown format, ready for publication, \"\n",
    "        \"each section should have 2 or 3 paragraphs.\",\n",
    "    agent=writer,\n",
    ")"
   ]
  },
  {
   "cell_type": "markdown",
   "metadata": {},
   "source": [
    "### Task: Edit"
   ]
  },
  {
   "cell_type": "code",
   "execution_count": 11,
   "metadata": {
    "height": 166
   },
   "outputs": [],
   "source": [
    "edit = Task(\n",
    "    description=(\"Proofread the given blog post for \"\n",
    "                 \"grammatical errors and \"\n",
    "                 \"alignment with the brand's voice.\"),\n",
    "    expected_output=\"A well-written blog post in markdown format, \"\n",
    "                    \"ready for publication, \"\n",
    "                    \"each section should have 2 or 3 paragraphs.\",\n",
    "    agent=editor\n",
    ")"
   ]
  },
  {
   "cell_type": "markdown",
   "metadata": {},
   "source": [
    "## Creating the Crew\n",
    "\n",
    "- Create your crew of Agents\n",
    "- Pass the tasks to be performed by those agents.\n",
    "    - **Note**: *For this simple example*, the tasks will be performed sequentially (i.e they are dependent on each other), so the _order_ of the task in the list _matters_.\n",
    "- `verbose=2` allows you to see all the logs of the execution. "
   ]
  },
  {
   "cell_type": "code",
   "execution_count": 12,
   "metadata": {
    "height": 98
   },
   "outputs": [],
   "source": [
    "crew = Crew(\n",
    "    agents=[planner, writer, editor],\n",
    "    tasks=[plan, write, edit],\n",
    "    verbose=2\n",
    ")"
   ]
  },
  {
   "cell_type": "markdown",
   "metadata": {},
   "source": [
    "## Running the Crew"
   ]
  },
  {
   "cell_type": "markdown",
   "metadata": {},
   "source": [
    "**Note**: LLMs can provide different outputs for they same input, so what you get might be different than what you see in the video."
   ]
  },
  {
   "cell_type": "code",
   "execution_count": 13,
   "metadata": {
    "height": 30
   },
   "outputs": [
    {
     "name": "stdout",
     "output_type": "stream",
     "text": [
      "\u001b[1m\u001b[95m [DEBUG]: == Working Agent: Content Planner\u001b[00m\n",
      "\u001b[1m\u001b[95m [INFO]: == Starting Task: 1. Prioritize the latest trends, key players, and noteworthy news on Artificial Intelligence.\n",
      "2. Identify the target audience, considering their interests and pain points.\n",
      "3. Develop a detailed content outline including an introduction, key points, and a call to action.\n",
      "4. Include SEO keywords and relevant data or sources.\u001b[00m\n",
      "\n",
      "\n",
      "\u001b[1m> Entering new CrewAgentExecutor chain...\u001b[0m\n",
      "\u001b[32;1m\u001b[1;3mI now can give a great answer\n",
      "\n",
      "Final Answer:\n",
      "Content Plan Document:\n",
      "\n",
      "Title: Unveiling the Latest Trends in Artificial Intelligence\n",
      "\n",
      "Introduction:\n",
      "- Brief overview of Artificial Intelligence (AI) and its impact on various industries.\n",
      "- Importance of staying updated on the latest trends in AI.\n",
      "\n",
      "Key Points:\n",
      "1. Latest Trends in Artificial Intelligence:\n",
      "- Machine Learning advancements such as deep learning and reinforcement learning.\n",
      "- Natural Language Processing (NLP) developments for improved language understanding.\n",
      "- AI-driven automation in industries like healthcare, finance, and transportation.\n",
      "- Ethical considerations and regulations surrounding AI technologies.\n",
      "\n",
      "2. Key Players in the AI Industry:\n",
      "- Tech giants like Google, Amazon, and Microsoft leading AI research and development.\n",
      "- Startups disrupting the AI landscape with innovative solutions.\n",
      "- Academic institutions and research centers contributing to AI advancements.\n",
      "\n",
      "3. Noteworthy News on Artificial Intelligence:\n",
      "- Recent breakthroughs in AI research and applications.\n",
      "- Impact of AI on job markets and societal changes.\n",
      "- Future predictions for AI technology and its implications.\n",
      "\n",
      "Target Audience:\n",
      "- Professionals in tech-related fields interested in AI advancements.\n",
      "- Business leaders looking to leverage AI for competitive advantage.\n",
      "- Students and researchers seeking to stay informed on the latest AI trends.\n",
      "- General audience curious about the impact of AI on society.\n",
      "\n",
      "SEO Keywords:\n",
      "- Artificial Intelligence trends 2021\n",
      "- Key players in AI industry\n",
      "- Latest news on AI technology\n",
      "- Machine Learning advancements\n",
      "- AI ethics and regulations\n",
      "\n",
      "Resources:\n",
      "- Research papers and articles from reputable sources like MIT Technology Review and Forbes.\n",
      "- Interviews with industry experts and thought leaders in the AI space.\n",
      "- Reports from leading AI research organizations such as OpenAI and IBM Research.\n",
      "\n",
      "Call to Action:\n",
      "- Encourage readers to continue learning about AI trends through recommended resources.\n",
      "- Invite audience to share their thoughts and insights on AI advancements in the comments section.\n",
      "- Suggest subscribing to the blog for regular updates on AI news and developments.\u001b[0m\n",
      "\n",
      "\u001b[1m> Finished chain.\u001b[0m\n",
      "\u001b[1m\u001b[92m [DEBUG]: == [Content Planner] Task output: Content Plan Document:\n",
      "\n",
      "Title: Unveiling the Latest Trends in Artificial Intelligence\n",
      "\n",
      "Introduction:\n",
      "- Brief overview of Artificial Intelligence (AI) and its impact on various industries.\n",
      "- Importance of staying updated on the latest trends in AI.\n",
      "\n",
      "Key Points:\n",
      "1. Latest Trends in Artificial Intelligence:\n",
      "- Machine Learning advancements such as deep learning and reinforcement learning.\n",
      "- Natural Language Processing (NLP) developments for improved language understanding.\n",
      "- AI-driven automation in industries like healthcare, finance, and transportation.\n",
      "- Ethical considerations and regulations surrounding AI technologies.\n",
      "\n",
      "2. Key Players in the AI Industry:\n",
      "- Tech giants like Google, Amazon, and Microsoft leading AI research and development.\n",
      "- Startups disrupting the AI landscape with innovative solutions.\n",
      "- Academic institutions and research centers contributing to AI advancements.\n",
      "\n",
      "3. Noteworthy News on Artificial Intelligence:\n",
      "- Recent breakthroughs in AI research and applications.\n",
      "- Impact of AI on job markets and societal changes.\n",
      "- Future predictions for AI technology and its implications.\n",
      "\n",
      "Target Audience:\n",
      "- Professionals in tech-related fields interested in AI advancements.\n",
      "- Business leaders looking to leverage AI for competitive advantage.\n",
      "- Students and researchers seeking to stay informed on the latest AI trends.\n",
      "- General audience curious about the impact of AI on society.\n",
      "\n",
      "SEO Keywords:\n",
      "- Artificial Intelligence trends 2021\n",
      "- Key players in AI industry\n",
      "- Latest news on AI technology\n",
      "- Machine Learning advancements\n",
      "- AI ethics and regulations\n",
      "\n",
      "Resources:\n",
      "- Research papers and articles from reputable sources like MIT Technology Review and Forbes.\n",
      "- Interviews with industry experts and thought leaders in the AI space.\n",
      "- Reports from leading AI research organizations such as OpenAI and IBM Research.\n",
      "\n",
      "Call to Action:\n",
      "- Encourage readers to continue learning about AI trends through recommended resources.\n",
      "- Invite audience to share their thoughts and insights on AI advancements in the comments section.\n",
      "- Suggest subscribing to the blog for regular updates on AI news and developments.\n",
      "\n",
      "\u001b[00m\n",
      "\u001b[1m\u001b[95m [DEBUG]: == Working Agent: Content Writer\u001b[00m\n",
      "\u001b[1m\u001b[95m [INFO]: == Starting Task: 1. Use the content plan to craft a compelling blog post on Artificial Intelligence.\n",
      "2. Incorporate SEO keywords naturally.\n",
      "3. Sections/Subtitles are properly named in an engaging manner.\n",
      "4. Ensure the post is structured with an engaging introduction, insightful body, and a summarizing conclusion.\n",
      "5. Proofread for grammatical errors and alignment with the brand's voice.\n",
      "\u001b[00m\n",
      "\n",
      "\n",
      "\u001b[1m> Entering new CrewAgentExecutor chain...\u001b[0m\n",
      "\u001b[32;1m\u001b[1;3mI now can give a great answer\n",
      "\n",
      "Final Answer: \n",
      "\n",
      "# Unveiling the Latest Trends in Artificial Intelligence\n",
      "\n",
      "**Introduction:**\n",
      "Artificial Intelligence (AI) has become an integral part of various industries, revolutionizing processes and decision-making. From healthcare to finance and transportation, AI technologies have significantly impacted the way businesses operate and interact with customers. It is crucial for professionals and enthusiasts alike to stay updated on the latest trends in AI to remain competitive and informed in this rapidly evolving field.\n",
      "\n",
      "## Latest Trends in Artificial Intelligence:\n",
      "\n",
      "### Machine Learning Advancements:\n",
      "One of the key trends in AI is the continuous advancements in Machine Learning, particularly in areas like deep learning and reinforcement learning. These technologies have enabled AI systems to learn from data, make predictions, and improve performance without explicit programming.\n",
      "\n",
      "### Natural Language Processing Developments:\n",
      "The development of Natural Language Processing (NLP) has led to significant improvements in language understanding and communication between humans and machines. NLP applications, such as chatbots and language translation services, have become increasingly sophisticated and accurate.\n",
      "\n",
      "### AI-Driven Automation in Industries:\n",
      "AI-driven automation is reshaping industries like healthcare, finance, and transportation by streamlining processes, optimizing resource allocation, and improving decision-making. From diagnosing medical conditions to predicting market trends, AI technologies are driving efficiency and innovation across various sectors.\n",
      "\n",
      "### Ethical Considerations and Regulations:\n",
      "As AI technologies become more pervasive, ethical considerations and regulations surrounding their use have gained prominence. Questions around data privacy, bias in AI algorithms, and accountability in automated decision-making are critical issues that need to be addressed to ensure the responsible deployment of AI systems.\n",
      "\n",
      "## Key Players in the AI Industry:\n",
      "\n",
      "### Tech Giants Leading AI Research:\n",
      "Major tech companies like Google, Amazon, and Microsoft are at the forefront of AI research and development, investing heavily in cutting-edge technologies and solutions. Their contributions have been instrumental in shaping the AI landscape and driving innovation in the field.\n",
      "\n",
      "### Startups Disrupting the AI Landscape:\n",
      "Startups are disrupting the AI industry with innovative solutions and niche applications of AI technologies. These agile and entrepreneurial companies are pushing boundaries, exploring new possibilities, and challenging established players in the market.\n",
      "\n",
      "### Academic Institutions and Research Centers:\n",
      "Academic institutions and research centers play a crucial role in advancing AI technologies through groundbreaking research and collaboration with industry partners. Their contributions to AI advancements, such as new algorithms and theoretical frameworks, are shaping the future of the field.\n",
      "\n",
      "## Noteworthy News on Artificial Intelligence:\n",
      "\n",
      "### Recent Breakthroughs in AI Research:\n",
      "The AI research community continues to achieve significant breakthroughs in areas like computer vision, natural language understanding, and autonomous systems. These advancements have practical applications in various industries and are driving the evolution of AI technologies.\n",
      "\n",
      "### Impact on Job Markets and Society:\n",
      "The increasing adoption of AI technologies is reshaping job markets, creating new opportunities while also displacing traditional roles. It is essential to consider the societal impact of AI, including issues related to employment, education, and economic inequality, to ensure a balanced and inclusive future.\n",
      "\n",
      "### Future Predictions for AI Technology:\n",
      "Experts predict a continued growth in AI technologies, with advancements in areas like explainable AI, AI ethics, and AI governance. Understanding the implications of these developments and preparing for the future of AI is essential for stakeholders across industries and society.\n",
      "\n",
      "**Conclusion:**\n",
      "As AI technologies continue to evolve and shape the world around us, staying informed on the latest trends and developments is crucial for professionals, business leaders, researchers, and the general audience. By exploring the key trends, players, and news in the AI industry, we can gain valuable insights into the potential of AI technologies and their impact on society. Let's continue to learn, discuss, and engage with AI advancements to drive innovation and progress in this transformative field.\n",
      "\n",
      "**Call to Action:**\n",
      "I encourage you to explore the recommended resources, share your thoughts on AI advancements in the comments section, and subscribe to the blog for regular updates on AI news and developments. Together, let's stay informed and engaged in the exciting world of Artificial Intelligence.\u001b[0m\n",
      "\n",
      "\u001b[1m> Finished chain.\u001b[0m\n",
      "\u001b[1m\u001b[92m [DEBUG]: == [Content Writer] Task output: # Unveiling the Latest Trends in Artificial Intelligence\n",
      "\n",
      "**Introduction:**\n",
      "Artificial Intelligence (AI) has become an integral part of various industries, revolutionizing processes and decision-making. From healthcare to finance and transportation, AI technologies have significantly impacted the way businesses operate and interact with customers. It is crucial for professionals and enthusiasts alike to stay updated on the latest trends in AI to remain competitive and informed in this rapidly evolving field.\n",
      "\n",
      "## Latest Trends in Artificial Intelligence:\n",
      "\n",
      "### Machine Learning Advancements:\n",
      "One of the key trends in AI is the continuous advancements in Machine Learning, particularly in areas like deep learning and reinforcement learning. These technologies have enabled AI systems to learn from data, make predictions, and improve performance without explicit programming.\n",
      "\n",
      "### Natural Language Processing Developments:\n",
      "The development of Natural Language Processing (NLP) has led to significant improvements in language understanding and communication between humans and machines. NLP applications, such as chatbots and language translation services, have become increasingly sophisticated and accurate.\n",
      "\n",
      "### AI-Driven Automation in Industries:\n",
      "AI-driven automation is reshaping industries like healthcare, finance, and transportation by streamlining processes, optimizing resource allocation, and improving decision-making. From diagnosing medical conditions to predicting market trends, AI technologies are driving efficiency and innovation across various sectors.\n",
      "\n",
      "### Ethical Considerations and Regulations:\n",
      "As AI technologies become more pervasive, ethical considerations and regulations surrounding their use have gained prominence. Questions around data privacy, bias in AI algorithms, and accountability in automated decision-making are critical issues that need to be addressed to ensure the responsible deployment of AI systems.\n",
      "\n",
      "## Key Players in the AI Industry:\n",
      "\n",
      "### Tech Giants Leading AI Research:\n",
      "Major tech companies like Google, Amazon, and Microsoft are at the forefront of AI research and development, investing heavily in cutting-edge technologies and solutions. Their contributions have been instrumental in shaping the AI landscape and driving innovation in the field.\n",
      "\n",
      "### Startups Disrupting the AI Landscape:\n",
      "Startups are disrupting the AI industry with innovative solutions and niche applications of AI technologies. These agile and entrepreneurial companies are pushing boundaries, exploring new possibilities, and challenging established players in the market.\n",
      "\n",
      "### Academic Institutions and Research Centers:\n",
      "Academic institutions and research centers play a crucial role in advancing AI technologies through groundbreaking research and collaboration with industry partners. Their contributions to AI advancements, such as new algorithms and theoretical frameworks, are shaping the future of the field.\n",
      "\n",
      "## Noteworthy News on Artificial Intelligence:\n",
      "\n",
      "### Recent Breakthroughs in AI Research:\n",
      "The AI research community continues to achieve significant breakthroughs in areas like computer vision, natural language understanding, and autonomous systems. These advancements have practical applications in various industries and are driving the evolution of AI technologies.\n",
      "\n",
      "### Impact on Job Markets and Society:\n",
      "The increasing adoption of AI technologies is reshaping job markets, creating new opportunities while also displacing traditional roles. It is essential to consider the societal impact of AI, including issues related to employment, education, and economic inequality, to ensure a balanced and inclusive future.\n",
      "\n",
      "### Future Predictions for AI Technology:\n",
      "Experts predict a continued growth in AI technologies, with advancements in areas like explainable AI, AI ethics, and AI governance. Understanding the implications of these developments and preparing for the future of AI is essential for stakeholders across industries and society.\n",
      "\n",
      "**Conclusion:**\n",
      "As AI technologies continue to evolve and shape the world around us, staying informed on the latest trends and developments is crucial for professionals, business leaders, researchers, and the general audience. By exploring the key trends, players, and news in the AI industry, we can gain valuable insights into the potential of AI technologies and their impact on society. Let's continue to learn, discuss, and engage with AI advancements to drive innovation and progress in this transformative field.\n",
      "\n",
      "**Call to Action:**\n",
      "I encourage you to explore the recommended resources, share your thoughts on AI advancements in the comments section, and subscribe to the blog for regular updates on AI news and developments. Together, let's stay informed and engaged in the exciting world of Artificial Intelligence.\n",
      "\n",
      "\u001b[00m\n",
      "\u001b[1m\u001b[95m [DEBUG]: == Working Agent: Editor\u001b[00m\n",
      "\u001b[1m\u001b[95m [INFO]: == Starting Task: Proofread the given blog post for grammatical errors and alignment with the brand's voice.\u001b[00m\n",
      "\n",
      "\n",
      "\u001b[1m> Entering new CrewAgentExecutor chain...\u001b[0m\n",
      "\u001b[32;1m\u001b[1;3mI now can give a great answer\n",
      "\n",
      "Final Answer:\n",
      "# Unveiling the Latest Trends in Artificial Intelligence\n",
      "\n",
      "**Introduction:**\n",
      "Artificial Intelligence (AI) has become an integral part of various industries, revolutionizing processes and decision-making. From healthcare to finance and transportation, AI technologies have significantly impacted the way businesses operate and interact with customers. It is crucial for professionals and enthusiasts alike to stay updated on the latest trends in AI to remain competitive and informed in this rapidly evolving field.\n",
      "\n",
      "## Latest Trends in Artificial Intelligence:\n",
      "\n",
      "### Machine Learning Advancements:\n",
      "One of the key trends in AI is the continuous advancements in Machine Learning, particularly in areas like deep learning and reinforcement learning. These technologies have enabled AI systems to learn from data, make predictions, and improve performance without explicit programming.\n",
      "\n",
      "### Natural Language Processing Developments:\n",
      "The development of Natural Language Processing (NLP) has led to significant improvements in language understanding and communication between humans and machines. NLP applications, such as chatbots and language translation services, have become increasingly sophisticated and accurate.\n",
      "\n",
      "### AI-Driven Automation in Industries:\n",
      "AI-driven automation is reshaping industries like healthcare, finance, and transportation by streamlining processes, optimizing resource allocation, and improving decision-making. From diagnosing medical conditions to predicting market trends, AI technologies are driving efficiency and innovation across various sectors.\n",
      "\n",
      "### Ethical Considerations and Regulations:\n",
      "As AI technologies become more pervasive, ethical considerations and regulations surrounding their use have gained prominence. Questions around data privacy, bias in AI algorithms, and accountability in automated decision-making are critical issues that need to be addressed to ensure the responsible deployment of AI systems.\n",
      "\n",
      "## Key Players in the AI Industry:\n",
      "\n",
      "### Tech Giants Leading AI Research:\n",
      "Major tech companies like Google, Amazon, and Microsoft are at the forefront of AI research and development, investing heavily in cutting-edge technologies and solutions. Their contributions have been instrumental in shaping the AI landscape and driving innovation in the field.\n",
      "\n",
      "### Startups Disrupting the AI Landscape:\n",
      "Startups are disrupting the AI industry with innovative solutions and niche applications of AI technologies. These agile and entrepreneurial companies are pushing boundaries, exploring new possibilities, and challenging established players in the market.\n",
      "\n",
      "### Academic Institutions and Research Centers:\n",
      "Academic institutions and research centers play a crucial role in advancing AI technologies through groundbreaking research and collaboration with industry partners. Their contributions to AI advancements, such as new algorithms and theoretical frameworks, are shaping the future of the field.\n",
      "\n",
      "## Noteworthy News on Artificial Intelligence:\n",
      "\n",
      "### Recent Breakthroughs in AI Research:\n",
      "The AI research community continues to achieve significant breakthroughs in areas like computer vision, natural language understanding, and autonomous systems. These advancements have practical applications in various industries and are driving the evolution of AI technologies.\n",
      "\n",
      "### Impact on Job Markets and Society:\n",
      "The increasing adoption of AI technologies is reshaping job markets, creating new opportunities while also displacing traditional roles. It is essential to consider the societal impact of AI, including issues related to employment, education, and economic inequality, to ensure a balanced and inclusive future.\n",
      "\n",
      "### Future Predictions for AI Technology:\n",
      "Experts predict a continued growth in AI technologies, with advancements in areas like explainable AI, AI ethics, and AI governance. Understanding the implications of these developments and preparing for the future of AI is essential for stakeholders across industries and society.\n",
      "\n",
      "**Conclusion:**\n",
      "As AI technologies continue to evolve and shape the world around us, staying informed on the latest trends and developments is crucial for professionals, business leaders, researchers, and the general audience. By exploring the key trends, players, and news in the AI industry, we can gain valuable insights into the potential of AI technologies and their impact on society. Let's continue to learn, discuss, and engage with AI advancements to drive innovation and progress in this transformative field.\n",
      "\n",
      "**Call to Action:**\n",
      "I encourage you to explore the recommended resources, share your thoughts on AI advancements in the comments section, and subscribe to the blog for regular updates on AI news and developments. Together, let's stay informed and engaged in the exciting world of Artificial Intelligence.\u001b[0m\n",
      "\n",
      "\u001b[1m> Finished chain.\u001b[0m\n",
      "\u001b[1m\u001b[92m [DEBUG]: == [Editor] Task output: # Unveiling the Latest Trends in Artificial Intelligence\n",
      "\n",
      "**Introduction:**\n",
      "Artificial Intelligence (AI) has become an integral part of various industries, revolutionizing processes and decision-making. From healthcare to finance and transportation, AI technologies have significantly impacted the way businesses operate and interact with customers. It is crucial for professionals and enthusiasts alike to stay updated on the latest trends in AI to remain competitive and informed in this rapidly evolving field.\n",
      "\n",
      "## Latest Trends in Artificial Intelligence:\n",
      "\n",
      "### Machine Learning Advancements:\n",
      "One of the key trends in AI is the continuous advancements in Machine Learning, particularly in areas like deep learning and reinforcement learning. These technologies have enabled AI systems to learn from data, make predictions, and improve performance without explicit programming.\n",
      "\n",
      "### Natural Language Processing Developments:\n",
      "The development of Natural Language Processing (NLP) has led to significant improvements in language understanding and communication between humans and machines. NLP applications, such as chatbots and language translation services, have become increasingly sophisticated and accurate.\n",
      "\n",
      "### AI-Driven Automation in Industries:\n",
      "AI-driven automation is reshaping industries like healthcare, finance, and transportation by streamlining processes, optimizing resource allocation, and improving decision-making. From diagnosing medical conditions to predicting market trends, AI technologies are driving efficiency and innovation across various sectors.\n",
      "\n",
      "### Ethical Considerations and Regulations:\n",
      "As AI technologies become more pervasive, ethical considerations and regulations surrounding their use have gained prominence. Questions around data privacy, bias in AI algorithms, and accountability in automated decision-making are critical issues that need to be addressed to ensure the responsible deployment of AI systems.\n",
      "\n",
      "## Key Players in the AI Industry:\n",
      "\n",
      "### Tech Giants Leading AI Research:\n",
      "Major tech companies like Google, Amazon, and Microsoft are at the forefront of AI research and development, investing heavily in cutting-edge technologies and solutions. Their contributions have been instrumental in shaping the AI landscape and driving innovation in the field.\n",
      "\n",
      "### Startups Disrupting the AI Landscape:\n",
      "Startups are disrupting the AI industry with innovative solutions and niche applications of AI technologies. These agile and entrepreneurial companies are pushing boundaries, exploring new possibilities, and challenging established players in the market.\n",
      "\n",
      "### Academic Institutions and Research Centers:\n",
      "Academic institutions and research centers play a crucial role in advancing AI technologies through groundbreaking research and collaboration with industry partners. Their contributions to AI advancements, such as new algorithms and theoretical frameworks, are shaping the future of the field.\n",
      "\n",
      "## Noteworthy News on Artificial Intelligence:\n",
      "\n",
      "### Recent Breakthroughs in AI Research:\n",
      "The AI research community continues to achieve significant breakthroughs in areas like computer vision, natural language understanding, and autonomous systems. These advancements have practical applications in various industries and are driving the evolution of AI technologies.\n",
      "\n",
      "### Impact on Job Markets and Society:\n",
      "The increasing adoption of AI technologies is reshaping job markets, creating new opportunities while also displacing traditional roles. It is essential to consider the societal impact of AI, including issues related to employment, education, and economic inequality, to ensure a balanced and inclusive future.\n",
      "\n",
      "### Future Predictions for AI Technology:\n",
      "Experts predict a continued growth in AI technologies, with advancements in areas like explainable AI, AI ethics, and AI governance. Understanding the implications of these developments and preparing for the future of AI is essential for stakeholders across industries and society.\n",
      "\n",
      "**Conclusion:**\n",
      "As AI technologies continue to evolve and shape the world around us, staying informed on the latest trends and developments is crucial for professionals, business leaders, researchers, and the general audience. By exploring the key trends, players, and news in the AI industry, we can gain valuable insights into the potential of AI technologies and their impact on society. Let's continue to learn, discuss, and engage with AI advancements to drive innovation and progress in this transformative field.\n",
      "\n",
      "**Call to Action:**\n",
      "I encourage you to explore the recommended resources, share your thoughts on AI advancements in the comments section, and subscribe to the blog for regular updates on AI news and developments. Together, let's stay informed and engaged in the exciting world of Artificial Intelligence.\n",
      "\n",
      "\u001b[00m\n"
     ]
    }
   ],
   "source": [
    "result = crew.kickoff(inputs={\"topic\": \"Artificial Intelligence\"})"
   ]
  },
  {
   "cell_type": "markdown",
   "metadata": {},
   "source": [
    "- Display the results of your execution as markdown in the notebook."
   ]
  },
  {
   "cell_type": "code",
   "execution_count": 11,
   "metadata": {
    "height": 47
   },
   "outputs": [
    {
     "ename": "NameError",
     "evalue": "name 'result' is not defined",
     "output_type": "error",
     "traceback": [
      "\u001b[1;31m---------------------------------------------------------------------------\u001b[0m",
      "\u001b[1;31mNameError\u001b[0m                                 Traceback (most recent call last)",
      "Cell \u001b[1;32mIn[11], line 2\u001b[0m\n\u001b[0;32m      1\u001b[0m \u001b[38;5;28;01mfrom\u001b[39;00m \u001b[38;5;21;01mIPython\u001b[39;00m\u001b[38;5;21;01m.\u001b[39;00m\u001b[38;5;21;01mdisplay\u001b[39;00m \u001b[38;5;28;01mimport\u001b[39;00m Markdown\n\u001b[1;32m----> 2\u001b[0m Markdown(\u001b[43mresult\u001b[49m)\n",
      "\u001b[1;31mNameError\u001b[0m: name 'result' is not defined"
     ]
    }
   ],
   "source": [
    "from IPython.display import Markdown\n",
    "Markdown(result)"
   ]
  },
  {
   "cell_type": "markdown",
   "metadata": {},
   "source": [
    "## Try it Yourself\n",
    "\n",
    "- Pass in a topic of your choice and see what the agents come up with!"
   ]
  },
  {
   "cell_type": "code",
   "execution_count": null,
   "metadata": {
    "height": 47
   },
   "outputs": [],
   "source": [
    "topic = \"Pre requisite for learning Generative AI\"\n",
    "result = crew.kickoff(inputs={\"topic\": topic})"
   ]
  },
  {
   "cell_type": "code",
   "execution_count": null,
   "metadata": {
    "height": 30
   },
   "outputs": [],
   "source": [
    "Markdown(result)"
   ]
  },
  {
   "cell_type": "markdown",
   "metadata": {},
   "source": [
    "<a name='1'></a>\n",
    " ## Other Popular Models as LLM for your Agents"
   ]
  },
  {
   "cell_type": "markdown",
   "metadata": {},
   "source": [
    "#### Hugging Face (HuggingFaceHub endpoint)\n",
    "\n",
    "```Python\n",
    "from langchain_community.llms import HuggingFaceHub\n",
    "\n",
    "llm = HuggingFaceHub(\n",
    "    repo_id=\"HuggingFaceH4/zephyr-7b-beta\",\n",
    "    huggingfacehub_api_token=\"<HF_TOKEN_HERE>\",\n",
    "    task=\"text-generation\",\n",
    ")\n",
    "\n",
    "### you will pass \"llm\" to your agent function\n",
    "```"
   ]
  },
  {
   "cell_type": "markdown",
   "metadata": {},
   "source": [
    "#### Mistral API\n",
    "\n",
    "```Python\n",
    "OPENAI_API_KEY=your-mistral-api-key\n",
    "OPENAI_API_BASE=https://api.mistral.ai/v1\n",
    "OPENAI_MODEL_NAME=\"mistral-small\"\n",
    "```"
   ]
  },
  {
   "cell_type": "markdown",
   "metadata": {},
   "source": [
    "#### Cohere\n",
    "\n",
    "```Python\n",
    "from langchain_community.chat_models import ChatCohere\n",
    "# Initialize language model\n",
    "os.environ[\"COHERE_API_KEY\"] = \"your-cohere-api-key\"\n",
    "llm = ChatCohere()\n",
    "\n",
    "### you will pass \"llm\" to your agent function\n",
    "```"
   ]
  },
  {
   "cell_type": "markdown",
   "metadata": {},
   "source": [
    "### For using Llama locally with Ollama and more, checkout the crewAI documentation on [Connecting to any LLM](https://docs.crewai.com/how-to/LLM-Connections/)."
   ]
  },
  {
   "cell_type": "code",
   "execution_count": null,
   "metadata": {
    "height": 30
   },
   "outputs": [],
   "source": []
  },
  {
   "cell_type": "code",
   "execution_count": null,
   "metadata": {
    "height": 30
   },
   "outputs": [],
   "source": []
  },
  {
   "cell_type": "code",
   "execution_count": null,
   "metadata": {
    "height": 30
   },
   "outputs": [],
   "source": []
  }
 ],
 "metadata": {
  "colab": {
   "gpuType": "T4",
   "provenance": []
  },
  "kernelspec": {
   "display_name": "Python 3 (ipykernel)",
   "language": "python",
   "name": "python3"
  },
  "language_info": {
   "codemirror_mode": {
    "name": "ipython",
    "version": 3
   },
   "file_extension": ".py",
   "mimetype": "text/x-python",
   "name": "python",
   "nbconvert_exporter": "python",
   "pygments_lexer": "ipython3",
   "version": "3.12.8"
  }
 },
 "nbformat": 4,
 "nbformat_minor": 4
}
